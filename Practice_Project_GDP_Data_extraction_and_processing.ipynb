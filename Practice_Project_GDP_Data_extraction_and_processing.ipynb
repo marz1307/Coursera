{
  "nbformat": 4,
  "nbformat_minor": 0,
  "metadata": {
    "colab": {
      "provenance": [],
      "authorship_tag": "ABX9TyMSU0QlvOBord91ALuM0N/Q",
      "include_colab_link": true
    },
    "kernelspec": {
      "name": "python3",
      "display_name": "Python 3"
    },
    "language_info": {
      "name": "python"
    }
  },
  "cells": [
    {
      "cell_type": "markdown",
      "metadata": {
        "id": "view-in-github",
        "colab_type": "text"
      },
      "source": [
        "<a href=\"https://colab.research.google.com/github/marz1307/Coursera-Projects/blob/main/Practice_Project_GDP_Data_extraction_and_processing.ipynb\" target=\"_parent\"><img src=\"https://colab.research.google.com/assets/colab-badge.svg\" alt=\"Open In Colab\"/></a>"
      ]
    },
    {
      "cell_type": "code",
      "execution_count": 1,
      "metadata": {
        "id": "9eS7zzoSu49y"
      },
      "outputs": [],
      "source": [
        "import numpy as np\n",
        "import pandas as pd\n",
        "def warn(*args, **kwargs):\n",
        "    pass\n",
        "import warnings\n",
        "warnings.warn = warn\n",
        "warnings.filterwarnings('ignore')\n",
        "\n",
        "URL=\"https://web.archive.org/web/20230902185326/https://en.wikipedia.org/wiki/List_of_countries_by_GDP_%28nominal%29\"\n",
        "\n",
        "# Extract tables from webpage using Pandas. Retain table number 3 as the required dataframe.\n",
        "tables = pd.read_html(URL)\n",
        "df = tables[3]\n",
        "\n",
        "# Replace the column headers with column numbers\n",
        "df.columns = range(df.shape[1])\n",
        "\n",
        "# Retain columns with index 0 and 2 (name of country and value of GDP quoted by IMF)\n",
        "df = df[[0,2]]\n",
        "\n",
        "# Retain the Rows with index 1 to 10, indicating the top 10 economies of the world.\n",
        "df = df.iloc[1:11,:]\n",
        "\n",
        "# Assign column names as \"Country\" and \"GDP (Million USD)\"\n",
        "df.columns = ['Country','GDP (Million USD)']\n",
        "\n",
        "# Change the data type of the 'GDP (Million USD)' column to integer. Use astype() method.\n",
        "df['GDP (Million USD)'] = df['GDP (Million USD)'].astype(int)\n",
        "\n",
        "# Convert the GDP value in Million USD to Billion USD\n",
        "df[['GDP (Million USD)']] = df[['GDP (Million USD)']]/1000\n",
        "\n",
        "# Use numpy.round() method to round the value to 2 decimal places.\n",
        "df[['GDP (Million USD)']] = np.round(df[['GDP (Million USD)']], 2)\n",
        "\n",
        "# Rename the column header from 'GDP (Million USD)' to 'GDP (Billion USD)'\n",
        "df.rename(columns = {'GDP (Million USD)' : 'GDP (Billion USD)'})\n",
        "# Load the DataFrame to the CSV file named \"Largest_economies.csv\"\n",
        "df.to_csv('./Largest_economies.csv')\n"
      ]
    }
  ]
}