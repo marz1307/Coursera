{
 "cells": [
  {
   "cell_type": "markdown",
   "id": "49c0c340-239e-47a6-98c6-f8d049025047",
   "metadata": {},
   "source": [
    "# Data Science Tools and Ecosystem\n"
   ]
  },
  {
   "cell_type": "markdown",
   "id": "ac7878dd-0ffd-4301-81d0-6a82bae1c586",
   "metadata": {
    "tags": []
   },
   "source": [
    "### Intro\n",
    "In this notebook, Data Science Tools and Ecosystem are summarized."
   ]
  },
  {
   "cell_type": "markdown",
   "id": "2b5cb7a3-df3e-480c-a6e9-3846e18d8019",
   "metadata": {
    "jp-MarkdownHeadingCollapsed": true,
    "tags": []
   },
   "source": [
    "### Languages Used In Data Science\n",
    "Some of the popular languages that Data Scientists use are: \n",
    "1. Julia\n",
    "2. Python\n",
    "3. R\n",
    "4. Scala\n",
    "5. SQL\n",
    "6. Ruby\n",
    "7. Java\n",
    "\n"
   ]
  },
  {
   "cell_type": "markdown",
   "id": "c261481b-93fc-46ef-80c4-2ee37f6205cd",
   "metadata": {},
   "source": [
    "### Data Science Libraries\n",
    "Some of the commonly used libraries used by Data Scientists include:\n",
    "1. NumPy\n",
    "2. Matplotlib\n",
    "3. Sickit-Learn\n",
    "4. Pandas\n",
    "5. SciPy\n",
    "6. Vegas\n",
    "7. GGplot2\n",
    "8. BigDL"
   ]
  },
  {
   "cell_type": "markdown",
   "id": "8bf50025-a90c-4a2b-b1bf-d22ad2ae2d4d",
   "metadata": {},
   "source": [
    "### Data Science tools\n",
    "Data Science tools |\n",
    "-------------------|\n",
    "Anaconda Navigator |\n",
    "R studio           |\n",
    "Jupyter            |\n",
    "Apache Zeppelin|\n"
   ]
  },
  {
   "cell_type": "markdown",
   "id": "d651adc3-b833-4b16-b7ec-8aa1814ff73a",
   "metadata": {},
   "source": [
    "### Arithmetic Expressions in Python\n",
    "\n",
    "Below are a few examples of evaluating arithmetic expressions in Python."
   ]
  },
  {
   "cell_type": "code",
   "execution_count": 2,
   "id": "66efa40a-3fd7-4b30-a937-bbb139e1bfd0",
   "metadata": {
    "tags": []
   },
   "outputs": [
    {
     "data": {
      "text/plain": [
       "17"
      ]
     },
     "execution_count": 2,
     "metadata": {},
     "output_type": "execute_result"
    }
   ],
   "source": [
    "#This a simple arithmetic expression to mutiply then add integers.\n",
    "\n",
    "(3*4)+5"
   ]
  },
  {
   "cell_type": "code",
   "execution_count": 5,
   "id": "8b5590eb-40da-4971-a65e-8222d01966f1",
   "metadata": {
    "tags": []
   },
   "outputs": [
    {
     "data": {
      "text/plain": [
       "3.3333333333333335"
      ]
     },
     "execution_count": 5,
     "metadata": {},
     "output_type": "execute_result"
    }
   ],
   "source": [
    "#This will convert 200 minutes to hours by diving by 60.\n",
    "200/60"
   ]
  },
  {
   "cell_type": "markdown",
   "id": "af5e45be-9b20-4273-9f0d-b79fedf9fa9a",
   "metadata": {},
   "source": [
    " ** Objectives\n",
    "- Popular languages in data science.\n",
    "- Data science libraries.\n",
    "- Data science tools.\n",
    "- Arithmetic expressions in python."
   ]
  },
  {
   "cell_type": "markdown",
   "id": "f6065e31-9fee-4e3e-8ff4-5beb4c6f9e41",
   "metadata": {},
   "source": [
    "## Author:\n",
    "Marvis Osazuwa"
   ]
  },
  {
   "cell_type": "markdown",
   "id": "2a193bab-e9b7-4551-a721-917bd7d0337b",
   "metadata": {},
   "source": []
  }
 ],
 "metadata": {
  "kernelspec": {
   "display_name": "Python",
   "language": "python",
   "name": "conda-env-python-py"
  },
  "language_info": {
   "codemirror_mode": {
    "name": "ipython",
    "version": 3
   },
   "file_extension": ".py",
   "mimetype": "text/x-python",
   "name": "python",
   "nbconvert_exporter": "python",
   "pygments_lexer": "ipython3",
   "version": "3.7.12"
  }
 },
 "nbformat": 4,
 "nbformat_minor": 5
}
